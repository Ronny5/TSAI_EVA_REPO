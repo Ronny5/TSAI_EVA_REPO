{
  "nbformat": 4,
  "nbformat_minor": 0,
  "metadata": {
    "kernelspec": {
      "name": "python3",
      "display_name": "Python 3"
    },
    "language_info": {
      "codemirror_mode": {
        "name": "ipython",
        "version": 3
      },
      "file_extension": ".py",
      "mimetype": "text/x-python",
      "name": "python",
      "nbconvert_exporter": "python",
      "pygments_lexer": "ipython3",
      "version": "3.6.6"
    },
    "colab": {
      "name": "S7_v1.ipynb",
      "provenance": [],
      "include_colab_link": true
    },
    "accelerator": "GPU",
    "widgets": {
      "application/vnd.jupyter.widget-state+json": {
        "20d2c974494544279707c96a16b79668": {
          "model_module": "@jupyter-widgets/controls",
          "model_name": "HBoxModel",
          "state": {
            "_view_name": "HBoxView",
            "_dom_classes": [],
            "_model_name": "HBoxModel",
            "_view_module": "@jupyter-widgets/controls",
            "_model_module_version": "1.5.0",
            "_view_count": null,
            "_view_module_version": "1.5.0",
            "box_style": "",
            "layout": "IPY_MODEL_4529b9b9dea24452b309240d62f158fa",
            "_model_module": "@jupyter-widgets/controls",
            "children": [
              "IPY_MODEL_90c7f4a1f31c422ab80fb09613b6df47",
              "IPY_MODEL_b96335c7773e4a1dbcdbe39315a614ab"
            ]
          }
        },
        "4529b9b9dea24452b309240d62f158fa": {
          "model_module": "@jupyter-widgets/base",
          "model_name": "LayoutModel",
          "state": {
            "_view_name": "LayoutView",
            "grid_template_rows": null,
            "right": null,
            "justify_content": null,
            "_view_module": "@jupyter-widgets/base",
            "overflow": null,
            "_model_module_version": "1.2.0",
            "_view_count": null,
            "flex_flow": null,
            "width": null,
            "min_width": null,
            "border": null,
            "align_items": null,
            "bottom": null,
            "_model_module": "@jupyter-widgets/base",
            "top": null,
            "grid_column": null,
            "overflow_y": null,
            "overflow_x": null,
            "grid_auto_flow": null,
            "grid_area": null,
            "grid_template_columns": null,
            "flex": null,
            "_model_name": "LayoutModel",
            "justify_items": null,
            "grid_row": null,
            "max_height": null,
            "align_content": null,
            "visibility": null,
            "align_self": null,
            "height": null,
            "min_height": null,
            "padding": null,
            "grid_auto_rows": null,
            "grid_gap": null,
            "max_width": null,
            "order": null,
            "_view_module_version": "1.2.0",
            "grid_template_areas": null,
            "object_position": null,
            "object_fit": null,
            "grid_auto_columns": null,
            "margin": null,
            "display": null,
            "left": null
          }
        },
        "90c7f4a1f31c422ab80fb09613b6df47": {
          "model_module": "@jupyter-widgets/controls",
          "model_name": "FloatProgressModel",
          "state": {
            "_view_name": "ProgressView",
            "style": "IPY_MODEL_f769fdadfe084ab1af305290bbeeb6f8",
            "_dom_classes": [],
            "description": "",
            "_model_name": "FloatProgressModel",
            "bar_style": "info",
            "max": 1,
            "_view_module": "@jupyter-widgets/controls",
            "_model_module_version": "1.5.0",
            "value": 1,
            "_view_count": null,
            "_view_module_version": "1.5.0",
            "orientation": "horizontal",
            "min": 0,
            "description_tooltip": null,
            "_model_module": "@jupyter-widgets/controls",
            "layout": "IPY_MODEL_6649c9d54d72401aa19fe702d5417fb0"
          }
        },
        "b96335c7773e4a1dbcdbe39315a614ab": {
          "model_module": "@jupyter-widgets/controls",
          "model_name": "HTMLModel",
          "state": {
            "_view_name": "HTMLView",
            "style": "IPY_MODEL_aade7c17c2f84f15aafb7e236e18dc5d",
            "_dom_classes": [],
            "description": "",
            "_model_name": "HTMLModel",
            "placeholder": "​",
            "_view_module": "@jupyter-widgets/controls",
            "_model_module_version": "1.5.0",
            "value": " 170500096/? [00:30&lt;00:00, 16674883.33it/s]",
            "_view_count": null,
            "_view_module_version": "1.5.0",
            "description_tooltip": null,
            "_model_module": "@jupyter-widgets/controls",
            "layout": "IPY_MODEL_b13e44b5e3ca4085b37ad6afca0229fd"
          }
        },
        "f769fdadfe084ab1af305290bbeeb6f8": {
          "model_module": "@jupyter-widgets/controls",
          "model_name": "ProgressStyleModel",
          "state": {
            "_view_name": "StyleView",
            "_model_name": "ProgressStyleModel",
            "description_width": "initial",
            "_view_module": "@jupyter-widgets/base",
            "_model_module_version": "1.5.0",
            "_view_count": null,
            "_view_module_version": "1.2.0",
            "bar_color": null,
            "_model_module": "@jupyter-widgets/controls"
          }
        },
        "6649c9d54d72401aa19fe702d5417fb0": {
          "model_module": "@jupyter-widgets/base",
          "model_name": "LayoutModel",
          "state": {
            "_view_name": "LayoutView",
            "grid_template_rows": null,
            "right": null,
            "justify_content": null,
            "_view_module": "@jupyter-widgets/base",
            "overflow": null,
            "_model_module_version": "1.2.0",
            "_view_count": null,
            "flex_flow": null,
            "width": null,
            "min_width": null,
            "border": null,
            "align_items": null,
            "bottom": null,
            "_model_module": "@jupyter-widgets/base",
            "top": null,
            "grid_column": null,
            "overflow_y": null,
            "overflow_x": null,
            "grid_auto_flow": null,
            "grid_area": null,
            "grid_template_columns": null,
            "flex": null,
            "_model_name": "LayoutModel",
            "justify_items": null,
            "grid_row": null,
            "max_height": null,
            "align_content": null,
            "visibility": null,
            "align_self": null,
            "height": null,
            "min_height": null,
            "padding": null,
            "grid_auto_rows": null,
            "grid_gap": null,
            "max_width": null,
            "order": null,
            "_view_module_version": "1.2.0",
            "grid_template_areas": null,
            "object_position": null,
            "object_fit": null,
            "grid_auto_columns": null,
            "margin": null,
            "display": null,
            "left": null
          }
        },
        "aade7c17c2f84f15aafb7e236e18dc5d": {
          "model_module": "@jupyter-widgets/controls",
          "model_name": "DescriptionStyleModel",
          "state": {
            "_view_name": "StyleView",
            "_model_name": "DescriptionStyleModel",
            "description_width": "",
            "_view_module": "@jupyter-widgets/base",
            "_model_module_version": "1.5.0",
            "_view_count": null,
            "_view_module_version": "1.2.0",
            "_model_module": "@jupyter-widgets/controls"
          }
        },
        "b13e44b5e3ca4085b37ad6afca0229fd": {
          "model_module": "@jupyter-widgets/base",
          "model_name": "LayoutModel",
          "state": {
            "_view_name": "LayoutView",
            "grid_template_rows": null,
            "right": null,
            "justify_content": null,
            "_view_module": "@jupyter-widgets/base",
            "overflow": null,
            "_model_module_version": "1.2.0",
            "_view_count": null,
            "flex_flow": null,
            "width": null,
            "min_width": null,
            "border": null,
            "align_items": null,
            "bottom": null,
            "_model_module": "@jupyter-widgets/base",
            "top": null,
            "grid_column": null,
            "overflow_y": null,
            "overflow_x": null,
            "grid_auto_flow": null,
            "grid_area": null,
            "grid_template_columns": null,
            "flex": null,
            "_model_name": "LayoutModel",
            "justify_items": null,
            "grid_row": null,
            "max_height": null,
            "align_content": null,
            "visibility": null,
            "align_self": null,
            "height": null,
            "min_height": null,
            "padding": null,
            "grid_auto_rows": null,
            "grid_gap": null,
            "max_width": null,
            "order": null,
            "_view_module_version": "1.2.0",
            "grid_template_areas": null,
            "object_position": null,
            "object_fit": null,
            "grid_auto_columns": null,
            "margin": null,
            "display": null,
            "left": null
          }
        }
      }
    }
  },
  "cells": [
    {
      "cell_type": "markdown",
      "metadata": {
        "id": "view-in-github",
        "colab_type": "text"
      },
      "source": [
        "<a href=\"https://colab.research.google.com/github/Ronny5/TSAI_EVA_REPO/blob/master/S7_v1.ipynb\" target=\"_parent\"><img src=\"https://colab.research.google.com/assets/colab-badge.svg\" alt=\"Open In Colab\"/></a>"
      ]
    },
    {
      "cell_type": "code",
      "metadata": {
        "id": "QVbdg0z4poCc",
        "colab_type": "code",
        "colab": {}
      },
      "source": [
        "import torch\n",
        "import torch.nn as nn\n",
        "import torch.optim as optim\n",
        "import torch.nn.functional as F\n",
        "\n",
        "import torchvision\n",
        "import torchvision.transforms as transforms\n",
        "\n",
        "from torchsummary import summary\n",
        "\n",
        "from tqdm import tqdm\n",
        "\n",
        "import numpy as np\n",
        "\n",
        "import matplotlib.pyplot as plt\n",
        "%matplotlib inline"
      ],
      "execution_count": 1,
      "outputs": []
    },
    {
      "cell_type": "markdown",
      "metadata": {
        "id": "fPogbueepoCh",
        "colab_type": "text"
      },
      "source": [
        "\n",
        "Training a Classifier\n",
        "=====================\n",
        "\n",
        "This is it. You have seen how to define neural networks, compute loss and make\n",
        "updates to the weights of the network.\n",
        "\n",
        "Now you might be thinking,\n",
        "\n",
        "What about data?\n",
        "----------------\n",
        "\n",
        "Generally, when you have to deal with image, text, audio or video data,\n",
        "you can use standard python packages that load data into a numpy array.\n",
        "Then you can convert this array into a ``torch.*Tensor``.\n",
        "\n",
        "-  For images, packages such as Pillow, OpenCV are useful\n",
        "-  For audio, packages such as scipy and librosa\n",
        "-  For text, either raw Python or Cython based loading, or NLTK and\n",
        "   SpaCy are useful\n",
        "\n",
        "Specifically for vision, we have created a package called\n",
        "``torchvision``, that has data loaders for common datasets such as\n",
        "Imagenet, CIFAR10, MNIST, etc. and data transformers for images, viz.,\n",
        "``torchvision.datasets`` and ``torch.utils.data.DataLoader``.\n",
        "\n",
        "This provides a huge convenience and avoids writing boilerplate code.\n",
        "\n",
        "For this tutorial, we will use the CIFAR10 dataset.\n",
        "It has the classes: ‘airplane’, ‘automobile’, ‘bird’, ‘cat’, ‘deer’,\n",
        "‘dog’, ‘frog’, ‘horse’, ‘ship’, ‘truck’. The images in CIFAR-10 are of\n",
        "size 3x32x32, i.e. 3-channel color images of 32x32 pixels in size.\n",
        "\n",
        ".. figure:: /_static/img/cifar10.png\n",
        "   :alt: cifar10\n",
        "\n",
        "   cifar10\n",
        "\n",
        "\n",
        "Training an image classifier\n",
        "----------------------------\n",
        "\n",
        "We will do the following steps in order:\n",
        "\n",
        "1. Load and normalizing the CIFAR10 training and test datasets using\n",
        "   ``torchvision``\n",
        "2. Define a Convolution Neural Network\n",
        "3. Define a loss function\n",
        "4. Train the network on the training data\n",
        "5. Test the network on the test data\n",
        "\n",
        "1. Loading and normalizing CIFAR10\n",
        "^^^^^^^^^^^^^^^^^^^^^^^^^^^^^^^^^^\n",
        "\n",
        "Using ``torchvision``, it’s extremely easy to load CIFAR10.\n",
        "\n"
      ]
    },
    {
      "cell_type": "markdown",
      "metadata": {
        "id": "9SSVMJQoEZg3",
        "colab_type": "text"
      },
      "source": [
        "### Calculating Ture Mean and STD for the CIFAR10 dataset (Train & Test combined)"
      ]
    },
    {
      "cell_type": "code",
      "metadata": {
        "id": "tSnfozlEEaCb",
        "colab_type": "code",
        "colab": {}
      },
      "source": [
        "def cifar10_mean_std():\n",
        "    \"\"\"Return the true mean of entire test and train dataset\"\"\"\n",
        "    # simple transform\n",
        "    simple_transforms = transforms.Compose([transforms.ToTensor(),])\n",
        "    \n",
        "    exp_train = torchvision.datasets.CIFAR10('./data', train=True, download=True, transform=simple_transforms)\n",
        "    exp_test = torchvision.datasets.CIFAR10('./data', train=False, download=True, transform=simple_transforms)\n",
        "    \n",
        "    exp_tr_data = exp_train.data # train set\n",
        "    exp_ts_data = exp_test.data # test set\n",
        "    \n",
        "    exp_data = np.concatenate((exp_tr_data,exp_ts_data),axis=0) # contatenate entire data\n",
        "    \n",
        "    exp_data = np.transpose(exp_data,(3,1,2,0)) # reshape to (60000, 32, 32, 3)\n",
        "    \n",
        "    norm_mean = (np.mean(exp_data[0])/255, np.mean(exp_data[1])/255, np.mean(exp_data[2])/255)\n",
        "    norm_std   = (np.std(exp_data[0])/255, np.std(exp_data[1])/255, np.std(exp_data[2])/255)\n",
        "    \n",
        "    return(tuple(map(lambda x: np.round(x,2), norm_mean)), tuple(map(lambda x: np.round(x,2), norm_std)))"
      ],
      "execution_count": 2,
      "outputs": []
    },
    {
      "cell_type": "markdown",
      "metadata": {
        "id": "5kjt4e2TpoCk",
        "colab_type": "text"
      },
      "source": [
        "The output of torchvision datasets are PILImage images of range [0, 1].\n",
        "We transform them to Tensors of normalized range [-1, 1].\n",
        "\n"
      ]
    },
    {
      "cell_type": "code",
      "metadata": {
        "id": "PRYesj8KU2tU",
        "colab_type": "code",
        "colab": {
          "base_uri": "https://localhost:8080/",
          "height": 97,
          "referenced_widgets": [
            "20d2c974494544279707c96a16b79668",
            "4529b9b9dea24452b309240d62f158fa",
            "90c7f4a1f31c422ab80fb09613b6df47",
            "b96335c7773e4a1dbcdbe39315a614ab",
            "f769fdadfe084ab1af305290bbeeb6f8",
            "6649c9d54d72401aa19fe702d5417fb0",
            "aade7c17c2f84f15aafb7e236e18dc5d",
            "b13e44b5e3ca4085b37ad6afca0229fd"
          ]
        },
        "outputId": "8afdd831-c4cc-4ba6-eb78-9a64928100e9"
      },
      "source": [
        "# The output of torchvision datasets are PILImage images of range [0, 1]. We transform them to Tensors of normalized range [-1, 1].\n",
        "# Define Transforms\n",
        "norm_mean,norm_std = cifar10_mean_std() #  (0.49, 0.48, 0.45), (0.25, 0.24, 0.26)\n",
        "train_transform = transforms.Compose([transforms.ToTensor(),transforms.Normalize(norm_mean, norm_std)])\n",
        "test_transform = transforms.Compose([transforms.ToTensor(),transforms.Normalize(norm_mean, norm_std)])"
      ],
      "execution_count": 3,
      "outputs": [
        {
          "output_type": "stream",
          "text": [
            "Downloading https://www.cs.toronto.edu/~kriz/cifar-10-python.tar.gz to ./data/cifar-10-python.tar.gz\n"
          ],
          "name": "stdout"
        },
        {
          "output_type": "display_data",
          "data": {
            "application/vnd.jupyter.widget-view+json": {
              "model_id": "20d2c974494544279707c96a16b79668",
              "version_minor": 0,
              "version_major": 2
            },
            "text/plain": [
              "HBox(children=(FloatProgress(value=1.0, bar_style='info', max=1.0), HTML(value='')))"
            ]
          },
          "metadata": {
            "tags": []
          }
        },
        {
          "output_type": "stream",
          "text": [
            "Extracting ./data/cifar-10-python.tar.gz to ./data\n",
            "Files already downloaded and verified\n"
          ],
          "name": "stdout"
        }
      ]
    },
    {
      "cell_type": "code",
      "metadata": {
        "id": "qwRcoFhpVlMY",
        "colab_type": "code",
        "colab": {
          "base_uri": "https://localhost:8080/",
          "height": 50
        },
        "outputId": "b9303329-c1bb-44c7-fb2d-33fbabb858be"
      },
      "source": [
        "# Extract and transform the data\n",
        "train_set = torchvision.datasets.CIFAR10(root='./data', train=True,download=True, transform=train_transform)\n",
        "test_set  = torchvision.datasets.CIFAR10(root='./data', train=False,download=True, transform=test_transform)"
      ],
      "execution_count": 4,
      "outputs": [
        {
          "output_type": "stream",
          "text": [
            "Files already downloaded and verified\n",
            "Files already downloaded and verified\n"
          ],
          "name": "stdout"
        }
      ]
    },
    {
      "cell_type": "code",
      "metadata": {
        "id": "D8Tjigo2poCl",
        "colab_type": "code",
        "colab": {}
      },
      "source": [
        "# Targets -> ('plane', 'car', 'bird', 'cat', 'deer', 'dog', 'frog', 'horse', 'ship', 'truck')\n",
        "classes = train_set.classes"
      ],
      "execution_count": 5,
      "outputs": []
    },
    {
      "cell_type": "code",
      "metadata": {
        "id": "RKVVucELVvjh",
        "colab_type": "code",
        "colab": {
          "base_uri": "https://localhost:8080/",
          "height": 33
        },
        "outputId": "cac73bf7-5970-4746-ff9c-cd229be9aa27"
      },
      "source": [
        "# Dataloader Arguments & Test/Train Dataloaders - Load part of ETL\n",
        "SEED = 1\n",
        "# CUDA?\n",
        "cuda = torch.cuda.is_available()\n",
        "print(\"CUDA Available?\", cuda)\n",
        "# For reproducibility\n",
        "torch.manual_seed(SEED)\n",
        "if cuda:\n",
        "    torch.cuda.manual_seed(SEED)\n",
        "    \n",
        "# dataloader arguments \n",
        "dataloader_args = dict(shuffle=True, batch_size=128, num_workers=4, pin_memory=True) if cuda else dict(shuffle=True, batch_size=64, num_workers=1)\n",
        "\n",
        "# train dataloader\n",
        "train_loader = torch.utils.data.DataLoader(train_set, **dataloader_args)\n",
        "# test dataloader\n",
        "test_loader  = torch.utils.data.DataLoader(test_set, **dataloader_args)"
      ],
      "execution_count": 6,
      "outputs": [
        {
          "output_type": "stream",
          "text": [
            "CUDA Available? True\n"
          ],
          "name": "stdout"
        }
      ]
    },
    {
      "cell_type": "markdown",
      "metadata": {
        "id": "_cj433rtpoCn",
        "colab_type": "text"
      },
      "source": [
        "Let us show some of the training images, for fun.\n",
        "\n"
      ]
    },
    {
      "cell_type": "code",
      "metadata": {
        "id": "daA7bADhpoCo",
        "colab_type": "code",
        "colab": {
          "base_uri": "https://localhost:8080/",
          "height": 366
        },
        "outputId": "c456d9b7-185d-4018-d542-484022aebe9e"
      },
      "source": [
        "# functions to show an image\n",
        "\n",
        "def imshow(img):\n",
        "    img = img / 2 + 0.5    # unnormalize: which is image time the std then add the mean to get the pixel in 0 to 1 range.\n",
        "    print(img.shape)\n",
        "    npimg = img.numpy()\n",
        "    print(npimg.shape)\n",
        "    plt.imshow(np.transpose(npimg, (1, 2, 0)))\n",
        "\n",
        "\n",
        "# get some random training images\n",
        "dataiter = iter(train_loader)\n",
        "images, labels = dataiter.next()\n",
        "print(\"size of image: \",images.shape)\n",
        "print(\"size of lables: \",labels.shape)\n",
        "\n",
        "# show images\n",
        "imshow(torchvision.utils.make_grid(images))\n",
        "# print labels\n",
        "print(' '.join('%5s' % classes[labels[j]] for j in range(4)))"
      ],
      "execution_count": 7,
      "outputs": [
        {
          "output_type": "stream",
          "text": [
            "Clipping input data to the valid range for imshow with RGB data ([0..1] for floats or [0..255] for integers).\n"
          ],
          "name": "stderr"
        },
        {
          "output_type": "stream",
          "text": [
            "size of image:  torch.Size([128, 3, 32, 32])\n",
            "size of lables:  torch.Size([128])\n",
            "torch.Size([3, 546, 274])\n",
            "(3, 546, 274)\n",
            "airplane   dog  deer  deer\n"
          ],
          "name": "stdout"
        },
        {
          "output_type": "display_data",
          "data": {
            "image/png": "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\n",
            "text/plain": [
              "<Figure size 432x288 with 1 Axes>"
            ]
          },
          "metadata": {
            "tags": [],
            "needs_background": "light"
          }
        }
      ]
    },
    {
      "cell_type": "markdown",
      "metadata": {
        "id": "28OpHA_LpoCq",
        "colab_type": "text"
      },
      "source": [
        "2. Define a Convolution Neural Network\n",
        "^^^^^^^^^^^^^^^^^^^^^^^^^^^^^^^^^^^^^^\n",
        "Copy the neural network from the Neural Networks section before and modify it to\n",
        "take 3-channel images (instead of 1-channel images as it was defined).\n",
        "\n"
      ]
    },
    {
      "cell_type": "code",
      "metadata": {
        "id": "0jjLwLLQpoCr",
        "colab_type": "code",
        "colab": {}
      },
      "source": [
        "dropout_value = 0.1\n",
        "class Net(nn.Module):\n",
        "    def __init__(self):\n",
        "        super(Net, self).__init__()\n",
        "\n",
        "        # CONVOLUTION BLOCK 1\n",
        "        self.convblock1 = nn.Sequential(\n",
        "            nn.Conv2d(in_channels=3, out_channels=32, kernel_size=(3, 3), padding=1, bias=False),\n",
        "            nn.ReLU(),\n",
        "            nn.BatchNorm2d(32),\n",
        "            nn.Dropout(dropout_value), # output_size = 32, RF = 3\n",
        "\n",
        "            nn.Conv2d(in_channels=32, out_channels=64, kernel_size=(3, 3), padding=1, bias=False),\n",
        "            nn.ReLU(),\n",
        "            nn.BatchNorm2d(64),\n",
        "            nn.Dropout(dropout_value)\n",
        "        ) # output_size = 32, RF = 5\n",
        "\n",
        "        # TRANSITION BLOCK 1\n",
        "        self.transblock1 = nn.Sequential(\n",
        "            nn.Conv2d(in_channels=64, out_channels=32, kernel_size=(1, 1), padding=1, bias=False), \n",
        "            # output_size = 34, RF = 5\n",
        "            \n",
        "            nn.MaxPool2d(2, 2, 1)\n",
        "        ) # output_size = 18, RF = 6\n",
        "\n",
        "        # CONVOLUTION BLOCK 2\n",
        "        self.convblock2 = nn.Sequential(\n",
        "            nn.Conv2d(in_channels=32, out_channels=64, kernel_size=(3, 3), padding=1, bias=False),\n",
        "            nn.ReLU(),            \n",
        "            nn.BatchNorm2d(64),\n",
        "            nn.Dropout(dropout_value), # output_size = 18, RF = 10\n",
        "\n",
        "            nn.Conv2d(in_channels=64, out_channels=128, kernel_size=(3, 3), padding=1, bias=False),\n",
        "            nn.ReLU(),            \n",
        "            nn.BatchNorm2d(128),\n",
        "            nn.Dropout(dropout_value)\n",
        "        ) # output_size = 18, RF = 14\n",
        "        \n",
        "        # TRANSITION BLOCK 2\n",
        "        self.transblock2 = nn.Sequential(\n",
        "            nn.Conv2d(in_channels=128, out_channels=64, kernel_size=(1, 1), padding=1, bias=False), # output_size = 20, RF = 14\n",
        "            nn.MaxPool2d(2, 2, 1)\n",
        "        ) # output_size = 11, RF = 16\n",
        "        \n",
        "        # CONVOLUTION BLOCK 3 -> DWS and Dialted Conv\n",
        "        self.convblock3 = nn.Sequential(\n",
        "            nn.Conv2d(in_channels=64, out_channels=64, kernel_size=(3, 3), padding=1, groups=64, bias=False),\n",
        "            nn.ReLU(),            \n",
        "            nn.BatchNorm2d(64),\n",
        "            nn.Dropout(dropout_value), # output_size = 11, 24\n",
        "            \n",
        "            nn.Conv2d(in_channels=64, out_channels=128, kernel_size=(1, 1), padding=1, bias=False),\n",
        "            nn.ReLU(),            \n",
        "            nn.BatchNorm2d(128),\n",
        "            nn.Dropout(dropout_value), # output_size = 11, 24\n",
        " \n",
        "            nn.Conv2d(in_channels=128, out_channels=128, kernel_size=(3, 3), padding=1, dilation=2, bias=False),\n",
        "            nn.ReLU(),            \n",
        "            nn.BatchNorm2d(128),\n",
        "            nn.Dropout(dropout_value)\n",
        "        ) # output_size = 9, RF = 40\n",
        "        \n",
        "        # TRANSITION BLOCK 3\n",
        "        self.transblock3 = nn.Sequential(\n",
        "            nn.Conv2d(in_channels=128, out_channels=64, kernel_size=(1, 1), padding=1, bias=False), # output_size = 11, RF = 40\n",
        "            nn.MaxPool2d(2, 2, 1) # output_size = 6, RF = 44 \n",
        "        ) \n",
        "        \n",
        "        # CONVOLUTION BLOCK 4\n",
        "        self.convblock4 = nn.Sequential(\n",
        "            nn.Conv2d(in_channels=64, out_channels=128, kernel_size=(3, 3), padding=1, bias=False),\n",
        "            nn.ReLU(),            \n",
        "            nn.BatchNorm2d(128),\n",
        "            nn.Dropout(dropout_value), # output_size = 6, RF = 60\n",
        "\n",
        "            nn.Conv2d(in_channels=128, out_channels=256, kernel_size=(3, 3), padding=1, bias=False),\n",
        "            nn.ReLU(),            \n",
        "            nn.BatchNorm2d(256),\n",
        "            nn.Dropout(dropout_value)\n",
        "        ) # output_size = 6, RF = 76\n",
        "        \n",
        "        # OUTPUT BLOCK\n",
        "        self.opblock= nn.Sequential(\n",
        "            nn.AvgPool2d(kernel_size=6), # output_size = 1\n",
        "\n",
        "            nn.Conv2d(in_channels=256, out_channels=10, kernel_size=(1, 1), padding=0, bias=False),\n",
        "            # nn.BatchNorm2d(10),\n",
        "            # nn.ReLU(),\n",
        "            # nn.Dropout(dropout_value)\n",
        "        ) \n",
        "\n",
        "\n",
        "    def forward(self, x):\n",
        "        x = self.convblock1(x)\n",
        "        x = self.transblock1(x)\n",
        "        x = self.convblock2(x)\n",
        "        x = self.transblock2(x)\n",
        "        x = self.convblock3(x)\n",
        "        x = self.transblock3(x)\n",
        "        x = self.convblock4(x)\n",
        "        x = self.opblock(x)\n",
        "\n",
        "        x = x.view(-1, 10)\n",
        "        return F.log_softmax(x, dim=-1)"
      ],
      "execution_count": 8,
      "outputs": []
    },
    {
      "cell_type": "code",
      "metadata": {
        "id": "lxjz8aKRaomn",
        "colab_type": "code",
        "colab": {
          "base_uri": "https://localhost:8080/",
          "height": 960
        },
        "outputId": "16293cae-a0eb-4e13-c735-217793d47165"
      },
      "source": [
        "# from torchsummary import summary\n",
        "use_cuda = torch.cuda.is_available()\n",
        "device = torch.device(\"cuda\" if use_cuda else \"cpu\")\n",
        "print(device)\n",
        "model = Net().to(device)\n",
        "summary(model, input_size=(3, 32, 32))"
      ],
      "execution_count": 9,
      "outputs": [
        {
          "output_type": "stream",
          "text": [
            "cuda\n",
            "----------------------------------------------------------------\n",
            "        Layer (type)               Output Shape         Param #\n",
            "================================================================\n",
            "            Conv2d-1           [-1, 32, 32, 32]             864\n",
            "              ReLU-2           [-1, 32, 32, 32]               0\n",
            "       BatchNorm2d-3           [-1, 32, 32, 32]              64\n",
            "           Dropout-4           [-1, 32, 32, 32]               0\n",
            "            Conv2d-5           [-1, 64, 32, 32]          18,432\n",
            "              ReLU-6           [-1, 64, 32, 32]               0\n",
            "       BatchNorm2d-7           [-1, 64, 32, 32]             128\n",
            "           Dropout-8           [-1, 64, 32, 32]               0\n",
            "            Conv2d-9           [-1, 32, 34, 34]           2,048\n",
            "        MaxPool2d-10           [-1, 32, 18, 18]               0\n",
            "           Conv2d-11           [-1, 64, 18, 18]          18,432\n",
            "             ReLU-12           [-1, 64, 18, 18]               0\n",
            "      BatchNorm2d-13           [-1, 64, 18, 18]             128\n",
            "          Dropout-14           [-1, 64, 18, 18]               0\n",
            "           Conv2d-15          [-1, 128, 18, 18]          73,728\n",
            "             ReLU-16          [-1, 128, 18, 18]               0\n",
            "      BatchNorm2d-17          [-1, 128, 18, 18]             256\n",
            "          Dropout-18          [-1, 128, 18, 18]               0\n",
            "           Conv2d-19           [-1, 64, 20, 20]           8,192\n",
            "        MaxPool2d-20           [-1, 64, 11, 11]               0\n",
            "           Conv2d-21           [-1, 64, 11, 11]             576\n",
            "             ReLU-22           [-1, 64, 11, 11]               0\n",
            "      BatchNorm2d-23           [-1, 64, 11, 11]             128\n",
            "          Dropout-24           [-1, 64, 11, 11]               0\n",
            "           Conv2d-25          [-1, 128, 13, 13]           8,192\n",
            "             ReLU-26          [-1, 128, 13, 13]               0\n",
            "      BatchNorm2d-27          [-1, 128, 13, 13]             256\n",
            "          Dropout-28          [-1, 128, 13, 13]               0\n",
            "           Conv2d-29          [-1, 128, 11, 11]         147,456\n",
            "             ReLU-30          [-1, 128, 11, 11]               0\n",
            "      BatchNorm2d-31          [-1, 128, 11, 11]             256\n",
            "          Dropout-32          [-1, 128, 11, 11]               0\n",
            "           Conv2d-33           [-1, 64, 13, 13]           8,192\n",
            "        MaxPool2d-34             [-1, 64, 7, 7]               0\n",
            "           Conv2d-35            [-1, 128, 7, 7]          73,728\n",
            "             ReLU-36            [-1, 128, 7, 7]               0\n",
            "      BatchNorm2d-37            [-1, 128, 7, 7]             256\n",
            "          Dropout-38            [-1, 128, 7, 7]               0\n",
            "           Conv2d-39            [-1, 256, 7, 7]         294,912\n",
            "             ReLU-40            [-1, 256, 7, 7]               0\n",
            "      BatchNorm2d-41            [-1, 256, 7, 7]             512\n",
            "          Dropout-42            [-1, 256, 7, 7]               0\n",
            "        AvgPool2d-43            [-1, 256, 1, 1]               0\n",
            "           Conv2d-44             [-1, 10, 1, 1]           2,560\n",
            "================================================================\n",
            "Total params: 659,296\n",
            "Trainable params: 659,296\n",
            "Non-trainable params: 0\n",
            "----------------------------------------------------------------\n",
            "Input size (MB): 0.01\n",
            "Forward/backward pass size (MB): 7.57\n",
            "Params size (MB): 2.52\n",
            "Estimated Total Size (MB): 10.09\n",
            "----------------------------------------------------------------\n"
          ],
          "name": "stdout"
        }
      ]
    },
    {
      "cell_type": "markdown",
      "metadata": {
        "id": "Wdw2NNCUpoCu",
        "colab_type": "text"
      },
      "source": [
        "3. Define a Loss function and optimizer\n",
        "^^^^^^^^^^^^^^^^^^^^^^^^^^^^^^^^^^^^^^^\n",
        "Let's use a Classification Cross-Entropy loss and SGD with momentum.\n",
        "\n"
      ]
    },
    {
      "cell_type": "code",
      "metadata": {
        "id": "M4xBbDROpoCv",
        "colab_type": "code",
        "colab": {}
      },
      "source": [
        "# import torch.optim as optim\n",
        "\n",
        "# criterion = nn.CrossEntropyLoss()\n",
        "# optimizer = optim.SGD(net.parameters(), lr=0.001, momentum=0.9)"
      ],
      "execution_count": 10,
      "outputs": []
    },
    {
      "cell_type": "markdown",
      "metadata": {
        "id": "O-odOrhdpoC2",
        "colab_type": "text"
      },
      "source": [
        "4. Train the network\n",
        "^^^^^^^^^^^^^^^^^^^^\n",
        "\n",
        "This is when things start to get interesting.\n",
        "We simply have to loop over our data iterator, and feed the inputs to the\n",
        "network and optimize.\n",
        "\n"
      ]
    },
    {
      "cell_type": "code",
      "metadata": {
        "id": "LIa_5kbfbb5k",
        "colab_type": "code",
        "colab": {}
      },
      "source": [
        "from tqdm import tqdm\n",
        "\n",
        "train_losses = []\n",
        "test_losses = []\n",
        "train_acc = []\n",
        "test_acc = []\n",
        "\n",
        "def train(model, device, train_loader, optimizer, epoch):\n",
        "  model.train()\n",
        "  pbar = tqdm(train_loader)\n",
        "  correct = 0\n",
        "  processed = 0\n",
        "  for batch_idx, (data, target) in enumerate(pbar):\n",
        "    # get samples\n",
        "    data, target = data.to(device), target.to(device)\n",
        "\n",
        "    # Init\n",
        "    optimizer.zero_grad()\n",
        "    # In PyTorch, we need to set the gradients to zero before starting to do backpropragation because PyTorch accumulates the gradients on subsequent backward passes. \n",
        "    # Because of this, when we start your training loop, ideally we should zero out the gradients so that we do the parameter update correctly.\n",
        "\n",
        "    # Predict\n",
        "    y_pred = model(data)\n",
        "\n",
        "    # Calculate loss\n",
        "    loss = F.nll_loss(y_pred, target)\n",
        "    train_losses.append(loss)\n",
        "\n",
        "    # Backpropagation\n",
        "    loss.backward()\n",
        "    optimizer.step()\n",
        "\n",
        "    # Update pbar-tqdm\n",
        "    \n",
        "    pred = y_pred.argmax(dim=1, keepdim=True)  # get the index of the max log-probability\n",
        "    correct += pred.eq(target.view_as(pred)).sum().item()\n",
        "    processed += len(data)\n",
        "\n",
        "    pbar.set_description(desc= f'Loss={loss.item()} Batch_id={batch_idx} Train Accuracy={100*correct/processed:0.2f}')\n",
        "    train_acc.append(100*correct/processed)\n",
        "\n",
        "def test(model, device, test_loader):\n",
        "    model.eval()\n",
        "    test_loss = 0\n",
        "    correct = 0\n",
        "    with torch.no_grad():\n",
        "        for data, target in test_loader:\n",
        "            data, target = data.to(device), target.to(device)\n",
        "            output = model(data)\n",
        "            test_loss += F.nll_loss(output, target, reduction='sum').item()  # sum up batch loss\n",
        "            pred = output.argmax(dim=1, keepdim=True)  # get the index of the max log-probability\n",
        "            correct += pred.eq(target.view_as(pred)).sum().item()\n",
        "\n",
        "    test_loss /= len(test_loader.dataset)\n",
        "    test_losses.append(test_loss)\n",
        "\n",
        "    print('\\nTest set: Average loss: {:.4f}, Test Accuracy: {}/{} ({:.2f}%)\\n'.format(\n",
        "        test_loss, correct, len(test_loader.dataset),\n",
        "        100. * correct / len(test_loader.dataset)))\n",
        "    \n",
        "    test_acc.append(100. * correct / len(test_loader.dataset))"
      ],
      "execution_count": 11,
      "outputs": []
    },
    {
      "cell_type": "code",
      "metadata": {
        "id": "kkuRfo1IpoC3",
        "colab_type": "code",
        "colab": {
          "base_uri": "https://localhost:8080/",
          "height": 34
        },
        "outputId": "f825ee57-863e-4ccd-f0c7-4656439b2c85"
      },
      "source": [
        "# for epoch in range(2):  # loop over the dataset multiple times\n",
        "\n",
        "#     running_loss = 0.0\n",
        "#     for i, data in enumerate(train_loader, 0):\n",
        "#         # get the inputs\n",
        "#         inputs, labels = data.to(device)\n",
        "\n",
        "#         # zero the parameter gradients\n",
        "#         optimizer.zero_grad()\n",
        "\n",
        "#         # forward + backward + optimize\n",
        "#         outputs = net(inputs)\n",
        "#         loss = criterion(outputs, labels)\n",
        "#         loss.backward()\n",
        "#         optimizer.step()\n",
        "\n",
        "#         # print statistics\n",
        "#         running_loss += loss.item()\n",
        "#         if i % 2000 == 1999:    # print every 2000 mini-batches\n",
        "#             print('[%d, %5d] loss: %.3f' %\n",
        "#                   (epoch + 1, i + 1, running_loss / 2000))\n",
        "#             running_loss = 0.0\n",
        "\n",
        "# print('Finished Training')"
      ],
      "execution_count": null,
      "outputs": [
        {
          "output_type": "stream",
          "text": [
            "Finished Training\n"
          ],
          "name": "stdout"
        }
      ]
    },
    {
      "cell_type": "code",
      "metadata": {
        "id": "tnhEqTs0brDV",
        "colab_type": "code",
        "colab": {
          "base_uri": "https://localhost:8080/",
          "height": 1000
        },
        "outputId": "114c3295-2238-4041-9bcf-9e6f3c837037"
      },
      "source": [
        "from torch.optim.lr_scheduler import StepLR\n",
        "\n",
        "model =  Net().to(device)\n",
        "optimizer = optim.SGD(model.parameters(), lr=0.1, momentum=0.9)\n",
        "scheduler = StepLR(optimizer, step_size=10, gamma=0.1)\n",
        "\n",
        "EPOCHS = 20\n",
        "for epoch in range(EPOCHS):\n",
        "    print(\"EPOCH:\", epoch)\n",
        "    train(model, device, train_loader, optimizer, epoch)\n",
        "    scheduler.step()\n",
        "    test(model, device, test_loader)"
      ],
      "execution_count": 12,
      "outputs": [
        {
          "output_type": "stream",
          "text": [
            "\r  0%|          | 0/391 [00:00<?, ?it/s]"
          ],
          "name": "stderr"
        },
        {
          "output_type": "stream",
          "text": [
            "EPOCH: 0\n"
          ],
          "name": "stdout"
        },
        {
          "output_type": "stream",
          "text": [
            "Loss=1.0080926418304443 Batch_id=390 Train Accuracy=48.70: 100%|██████████| 391/391 [01:03<00:00,  6.20it/s]\n",
            "  0%|          | 0/391 [00:00<?, ?it/s]"
          ],
          "name": "stderr"
        },
        {
          "output_type": "stream",
          "text": [
            "\n",
            "Test set: Average loss: 1.1087, Test Accuracy: 6100/10000 (61.00%)\n",
            "\n",
            "EPOCH: 1\n"
          ],
          "name": "stdout"
        },
        {
          "output_type": "stream",
          "text": [
            "Loss=0.825715184211731 Batch_id=390 Train Accuracy=64.70: 100%|██████████| 391/391 [01:03<00:00,  6.16it/s]\n",
            "  0%|          | 0/391 [00:00<?, ?it/s]"
          ],
          "name": "stderr"
        },
        {
          "output_type": "stream",
          "text": [
            "\n",
            "Test set: Average loss: 1.0079, Test Accuracy: 6586/10000 (65.86%)\n",
            "\n",
            "EPOCH: 2\n"
          ],
          "name": "stdout"
        },
        {
          "output_type": "stream",
          "text": [
            "Loss=0.8081408739089966 Batch_id=390 Train Accuracy=70.85: 100%|██████████| 391/391 [01:02<00:00,  6.26it/s]\n",
            "  0%|          | 0/391 [00:00<?, ?it/s]"
          ],
          "name": "stderr"
        },
        {
          "output_type": "stream",
          "text": [
            "\n",
            "Test set: Average loss: 0.8767, Test Accuracy: 7035/10000 (70.35%)\n",
            "\n",
            "EPOCH: 3\n"
          ],
          "name": "stdout"
        },
        {
          "output_type": "stream",
          "text": [
            "Loss=0.6685292720794678 Batch_id=390 Train Accuracy=75.21: 100%|██████████| 391/391 [01:03<00:00,  6.17it/s]\n",
            "  0%|          | 0/391 [00:00<?, ?it/s]"
          ],
          "name": "stderr"
        },
        {
          "output_type": "stream",
          "text": [
            "\n",
            "Test set: Average loss: 0.7417, Test Accuracy: 7513/10000 (75.13%)\n",
            "\n",
            "EPOCH: 4\n"
          ],
          "name": "stdout"
        },
        {
          "output_type": "stream",
          "text": [
            "Loss=0.6313077211380005 Batch_id=390 Train Accuracy=77.66: 100%|██████████| 391/391 [01:02<00:00,  6.23it/s]\n",
            "  0%|          | 0/391 [00:00<?, ?it/s]"
          ],
          "name": "stderr"
        },
        {
          "output_type": "stream",
          "text": [
            "\n",
            "Test set: Average loss: 0.7268, Test Accuracy: 7574/10000 (75.74%)\n",
            "\n",
            "EPOCH: 5\n"
          ],
          "name": "stdout"
        },
        {
          "output_type": "stream",
          "text": [
            "Loss=0.6563390493392944 Batch_id=390 Train Accuracy=79.78: 100%|██████████| 391/391 [01:03<00:00,  6.15it/s]\n",
            "  0%|          | 0/391 [00:00<?, ?it/s]"
          ],
          "name": "stderr"
        },
        {
          "output_type": "stream",
          "text": [
            "\n",
            "Test set: Average loss: 0.6509, Test Accuracy: 7787/10000 (77.87%)\n",
            "\n",
            "EPOCH: 6\n"
          ],
          "name": "stdout"
        },
        {
          "output_type": "stream",
          "text": [
            "Loss=0.45442357659339905 Batch_id=390 Train Accuracy=81.18: 100%|██████████| 391/391 [01:02<00:00,  6.24it/s]\n",
            "  0%|          | 0/391 [00:00<?, ?it/s]"
          ],
          "name": "stderr"
        },
        {
          "output_type": "stream",
          "text": [
            "\n",
            "Test set: Average loss: 0.6840, Test Accuracy: 7709/10000 (77.09%)\n",
            "\n",
            "EPOCH: 7\n"
          ],
          "name": "stdout"
        },
        {
          "output_type": "stream",
          "text": [
            "Loss=0.5840237140655518 Batch_id=390 Train Accuracy=82.40: 100%|██████████| 391/391 [01:03<00:00,  6.15it/s]\n",
            "  0%|          | 0/391 [00:00<?, ?it/s]"
          ],
          "name": "stderr"
        },
        {
          "output_type": "stream",
          "text": [
            "\n",
            "Test set: Average loss: 0.6073, Test Accuracy: 8006/10000 (80.06%)\n",
            "\n",
            "EPOCH: 8\n"
          ],
          "name": "stdout"
        },
        {
          "output_type": "stream",
          "text": [
            "Loss=0.3319315016269684 Batch_id=390 Train Accuracy=83.63: 100%|██████████| 391/391 [01:02<00:00,  6.25it/s]\n",
            "  0%|          | 0/391 [00:00<?, ?it/s]"
          ],
          "name": "stderr"
        },
        {
          "output_type": "stream",
          "text": [
            "\n",
            "Test set: Average loss: 0.5547, Test Accuracy: 8066/10000 (80.66%)\n",
            "\n",
            "EPOCH: 9\n"
          ],
          "name": "stdout"
        },
        {
          "output_type": "stream",
          "text": [
            "Loss=0.472106397151947 Batch_id=390 Train Accuracy=84.50: 100%|██████████| 391/391 [01:03<00:00,  6.17it/s]\n",
            "  0%|          | 0/391 [00:00<?, ?it/s]"
          ],
          "name": "stderr"
        },
        {
          "output_type": "stream",
          "text": [
            "\n",
            "Test set: Average loss: 0.5608, Test Accuracy: 8100/10000 (81.00%)\n",
            "\n",
            "EPOCH: 10\n"
          ],
          "name": "stdout"
        },
        {
          "output_type": "stream",
          "text": [
            "Loss=0.4716716408729553 Batch_id=390 Train Accuracy=88.19: 100%|██████████| 391/391 [01:02<00:00,  6.24it/s]\n",
            "  0%|          | 0/391 [00:00<?, ?it/s]"
          ],
          "name": "stderr"
        },
        {
          "output_type": "stream",
          "text": [
            "\n",
            "Test set: Average loss: 0.5089, Test Accuracy: 8313/10000 (83.13%)\n",
            "\n",
            "EPOCH: 11\n"
          ],
          "name": "stdout"
        },
        {
          "output_type": "stream",
          "text": [
            "Loss=0.5009031295776367 Batch_id=390 Train Accuracy=89.51: 100%|██████████| 391/391 [01:03<00:00,  6.17it/s]\n",
            "  0%|          | 0/391 [00:00<?, ?it/s]"
          ],
          "name": "stderr"
        },
        {
          "output_type": "stream",
          "text": [
            "\n",
            "Test set: Average loss: 0.5234, Test Accuracy: 8332/10000 (83.32%)\n",
            "\n",
            "EPOCH: 12\n"
          ],
          "name": "stdout"
        },
        {
          "output_type": "stream",
          "text": [
            "Loss=0.29236721992492676 Batch_id=390 Train Accuracy=90.16: 100%|██████████| 391/391 [01:02<00:00,  6.24it/s]\n",
            "  0%|          | 0/391 [00:00<?, ?it/s]"
          ],
          "name": "stderr"
        },
        {
          "output_type": "stream",
          "text": [
            "\n",
            "Test set: Average loss: 0.5231, Test Accuracy: 8337/10000 (83.37%)\n",
            "\n",
            "EPOCH: 13\n"
          ],
          "name": "stdout"
        },
        {
          "output_type": "stream",
          "text": [
            "Loss=0.2719131112098694 Batch_id=390 Train Accuracy=90.39: 100%|██████████| 391/391 [01:03<00:00,  6.15it/s]\n",
            "  0%|          | 0/391 [00:00<?, ?it/s]"
          ],
          "name": "stderr"
        },
        {
          "output_type": "stream",
          "text": [
            "\n",
            "Test set: Average loss: 0.5275, Test Accuracy: 8369/10000 (83.69%)\n",
            "\n",
            "EPOCH: 14\n"
          ],
          "name": "stdout"
        },
        {
          "output_type": "stream",
          "text": [
            "Loss=0.21594104170799255 Batch_id=390 Train Accuracy=90.44: 100%|██████████| 391/391 [01:02<00:00,  6.24it/s]\n",
            "  0%|          | 0/391 [00:00<?, ?it/s]"
          ],
          "name": "stderr"
        },
        {
          "output_type": "stream",
          "text": [
            "\n",
            "Test set: Average loss: 0.5419, Test Accuracy: 8344/10000 (83.44%)\n",
            "\n",
            "EPOCH: 15\n"
          ],
          "name": "stdout"
        },
        {
          "output_type": "stream",
          "text": [
            "Loss=0.32522040605545044 Batch_id=390 Train Accuracy=91.01: 100%|██████████| 391/391 [01:03<00:00,  6.16it/s]\n",
            "  0%|          | 0/391 [00:00<?, ?it/s]"
          ],
          "name": "stderr"
        },
        {
          "output_type": "stream",
          "text": [
            "\n",
            "Test set: Average loss: 0.5397, Test Accuracy: 8352/10000 (83.52%)\n",
            "\n",
            "EPOCH: 16\n"
          ],
          "name": "stdout"
        },
        {
          "output_type": "stream",
          "text": [
            "Loss=0.3299907445907593 Batch_id=390 Train Accuracy=91.27: 100%|██████████| 391/391 [01:02<00:00,  6.26it/s]\n",
            "  0%|          | 0/391 [00:00<?, ?it/s]"
          ],
          "name": "stderr"
        },
        {
          "output_type": "stream",
          "text": [
            "\n",
            "Test set: Average loss: 0.5324, Test Accuracy: 8352/10000 (83.52%)\n",
            "\n",
            "EPOCH: 17\n"
          ],
          "name": "stdout"
        },
        {
          "output_type": "stream",
          "text": [
            "Loss=0.1812286674976349 Batch_id=390 Train Accuracy=91.53: 100%|██████████| 391/391 [01:03<00:00,  6.17it/s]\n",
            "  0%|          | 0/391 [00:00<?, ?it/s]"
          ],
          "name": "stderr"
        },
        {
          "output_type": "stream",
          "text": [
            "\n",
            "Test set: Average loss: 0.5385, Test Accuracy: 8385/10000 (83.85%)\n",
            "\n",
            "EPOCH: 18\n"
          ],
          "name": "stdout"
        },
        {
          "output_type": "stream",
          "text": [
            "Loss=0.2082149088382721 Batch_id=390 Train Accuracy=91.55: 100%|██████████| 391/391 [01:02<00:00,  6.27it/s]\n",
            "  0%|          | 0/391 [00:00<?, ?it/s]"
          ],
          "name": "stderr"
        },
        {
          "output_type": "stream",
          "text": [
            "\n",
            "Test set: Average loss: 0.5538, Test Accuracy: 8372/10000 (83.72%)\n",
            "\n",
            "EPOCH: 19\n"
          ],
          "name": "stdout"
        },
        {
          "output_type": "stream",
          "text": [
            "Loss=0.20515799522399902 Batch_id=390 Train Accuracy=91.84: 100%|██████████| 391/391 [01:03<00:00,  6.18it/s]\n"
          ],
          "name": "stderr"
        },
        {
          "output_type": "stream",
          "text": [
            "\n",
            "Test set: Average loss: 0.5493, Test Accuracy: 8390/10000 (83.90%)\n",
            "\n"
          ],
          "name": "stdout"
        }
      ]
    },
    {
      "cell_type": "markdown",
      "metadata": {
        "id": "YLrvL_fHpoC5",
        "colab_type": "text"
      },
