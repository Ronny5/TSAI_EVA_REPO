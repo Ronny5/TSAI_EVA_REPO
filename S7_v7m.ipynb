{
  "nbformat": 4,
  "nbformat_minor": 0,
  "metadata": {
    "kernelspec": {
      "name": "python3",
      "display_name": "Python 3"
    },
    "language_info": {
      "codemirror_mode": {
        "name": "ipython",
        "version": 3
      },
      "file_extension": ".py",
      "mimetype": "text/x-python",
      "name": "python",
      "nbconvert_exporter": "python",
      "pygments_lexer": "ipython3",
      "version": "3.6.6"
    },
    "colab": {
      "name": "S7_v7m.ipynb",
      "provenance": [],
      "collapsed_sections": [],
      "include_colab_link": true
    },
    "accelerator": "GPU"
  },
  "cells": [
    {
      "cell_type": "markdown",
      "metadata": {
        "id": "view-in-github",
        "colab_type": "text"
      },
      "source": [
        "<a href=\"https://colab.research.google.com/github/Ronny5/TSAI_EVA_REPO/blob/master/S7_v7m.ipynb\" target=\"_parent\"><img src=\"https://colab.research.google.com/assets/colab-badge.svg\" alt=\"Open In Colab\"/></a>"
      ]
    },
    {
      "cell_type": "markdown",
      "metadata": {
        "id": "gMCaL85ACY1c",
        "colab_type": "text"
      },
      "source": [
        "#**Assignment 7**\n",
        "\n",
        "**The Given task was to fix the given model with the below keypoints and improvements.**\n",
        "\n",
        "1. Fix the network above:\n",
        "2. change the code such that it uses GPU\n",
        "3. change the architecture to C1C2C3C40 (basically 3 MPs)\n",
        "4. total RF must be more than 44\n",
        "5. one of the layers must use Depthwise Separable Convolution\n",
        "6. one of the layers must use Dilated Convolution\n",
        "7. use GAP (compulsory):- add FC after GAP to target #of classes (optional)\n",
        "8. achieve 80% accuracy, as many epochs as you want. Total Params to be less  than 1M. \n",
        "10. upload to Github\n",
        "\n",
        "**Another task was to modularize the code to a repository in Github**\n"
      ]
    },
    {
      "cell_type": "markdown",
      "metadata": {
        "id": "IuFw4nngE1A7",
        "colab_type": "text"
      },
      "source": [
        "## **Model Description**\n",
        "\n",
        "###**Target:** \n",
        "80% accuracy with less than 1 million parameters\n",
        "\n",
        "###**Results:**\n",
        "Parameters: 733k (<1M)\n",
        "\n",
        "**Best Train Accuracy:** 83.42\n",
        "\n",
        "**Best Test Accuracy:** 83.22 (9th Epoch)\n",
        "\n",
        "**Analysis:** This model has scope of improvement. Dropout and Augumentation was used to avoid overfillting."
      ]
    },
    {
      "cell_type": "markdown",
      "metadata": {
        "id": "fPogbueepoCh",
        "colab_type": "text"
      },
      "source": [
        "\n",
        "Training a Classifier\n",
        "=====================\n",
        "\n",
        "This is it. You have seen how to define neural networks, compute loss and make\n",
        "updates to the weights of the network.\n",
        "\n",
        "Now you might be thinking,\n",
        "\n",
        "What about data?\n",
        "----------------\n",
        "\n",
        "Generally, when you have to deal with image, text, audio or video data,\n",
        "you can use standard python packages that load data into a numpy array.\n",
        "Then you can convert this array into a ``torch.*Tensor``.\n",
        "\n",
        "-  For images, packages such as Pillow, OpenCV are useful\n",
        "-  For audio, packages such as scipy and librosa\n",
        "-  For text, either raw Python or Cython based loading, or NLTK and\n",
        "   SpaCy are useful\n",
        "\n",
        "Specifically for vision, we have created a package called\n",
        "``torchvision``, that has data loaders for common datasets such as\n",
        "Imagenet, CIFAR10, MNIST, etc. and data transformers for images, viz.,\n",
        "``torchvision.datasets`` and ``torch.utils.data.DataLoader``.\n",
        "\n",
        "This provides a huge convenience and avoids writing boilerplate code.\n",
        "\n",
        "For this tutorial, we will use the CIFAR10 dataset.\n",
        "It has the classes: ‘airplane’, ‘automobile’, ‘bird’, ‘cat’, ‘deer’,\n",
        "‘dog’, ‘frog’, ‘horse’, ‘ship’, ‘truck’. The images in CIFAR-10 are of\n",
        "size 3x32x32, i.e. 3-channel color images of 32x32 pixels in size.\n",
        "\n",
        ".. figure:: /_static/img/cifar10.png\n",
        "   :alt: cifar10\n",
        "\n",
        "   cifar10\n",
        "\n",
        "\n",
        "Training an image classifier\n",
        "----------------------------\n",
        "\n",
        "We will do the following steps in order:\n",
        "\n",
        "1. Load and normalizing the CIFAR10 training and test datasets using\n",
        "   ``torchvision``\n",
        "2. Define a Convolution Neural Network\n",
        "3. Define a loss function\n",
        "4. Train the network on the training data\n",
        "5. Test the network on the test data\n",
        "\n",
        "1. Loading and normalizing CIFAR10\n",
        "\n",
        "Using ``torchvision``, it’s extremely easy to load CIFAR10.\n",
        "\n"
      ]
    },
    {
      "cell_type": "markdown",
      "metadata": {
        "id": "oV4kY76H4SRN",
        "colab_type": "text"
      },
      "source": [
        "###Cloning the GITHUB repository for Session 7 Assignment"
      ]
    },
    {
      "cell_type": "code",
      "metadata": {
        "id": "rVTsEvlQ9O9a",
        "colab_type": "code",
        "colab": {}
      },
      "source": [
        "#!rm -rf /content/TSAI_EVA_REPO/"
      ],
      "execution_count": null,
      "outputs": []
    },
    {
      "cell_type": "code",
      "metadata": {
        "id": "1X2n5CyiAezK",
        "colab_type": "code",
        "colab": {
          "base_uri": "https://localhost:8080/",
          "height": 33
        },
        "outputId": "210dc656-c94e-443c-b3ab-49bb990a1d82"
      },
      "source": [
        "#%cd .."
      ],
      "execution_count": null,
      "outputs": [
        {
          "output_type": "stream",
          "text": [
            "/content\n"
          ],
          "name": "stdout"
        }
      ]
    },
    {
      "cell_type": "code",
      "metadata": {
        "id": "rClkrHnxBMtG",
        "colab_type": "code",
        "colab": {
          "base_uri": "https://localhost:8080/",
          "height": 33
        },
        "outputId": "d68095b1-05d1-45c8-884a-279dd3f5e769"
      },
      "source": [
        "!pwd"
      ],
      "execution_count": null,
      "outputs": [
        {
          "output_type": "stream",
          "text": [
            "/content\n"
          ],
          "name": "stdout"
        }
      ]
    },
    {
      "cell_type": "code",
      "metadata": {
        "id": "RufdoK0V4TcZ",
        "colab_type": "code",
        "colab": {
          "base_uri": "https://localhost:8080/",
          "height": 131
        },
        "outputId": "a5006016-cb48-4032-e328-df3d845789e5"
      },
      "source": [
        "!git clone https://github.com/Ronny5/TSAI_EVA_REPO.git"
      ],
      "execution_count": null,
      "outputs": [
        {
          "output_type": "stream",
          "text": [
            "Cloning into 'TSAI_EVA_REPO'...\n",
            "remote: Enumerating objects: 115, done.\u001b[K\n",
            "remote: Counting objects: 100% (115/115), done.\u001b[K\n",
            "remote: Compressing objects: 100% (98/98), done.\u001b[K\n",
            "remote: Total 115 (delta 50), reused 5 (delta 0), pack-reused 0\u001b[K\n",
            "Receiving objects: 100% (115/115), 142.95 KiB | 6.50 MiB/s, done.\n",
            "Resolving deltas: 100% (50/50), done.\n"
          ],
          "name": "stdout"
        }
      ]
    },
    {
      "cell_type": "markdown",
      "metadata": {
        "id": "mDCZGBSz6uwE",
        "colab_type": "text"
      },
      "source": [
        "### Executing required modules from the Github clone"
      ]
    },
    {
      "cell_type": "code",
      "metadata": {
        "id": "1QQI-6RoG7Ps",
        "colab_type": "code",
        "colab": {}
      },
      "source": [
        "import TSAI_EVA_REPO.Utils.s7_utils as util\n",
        "import TSAI_EVA_REPO.Models.S7_MODEL as model\n",
        "import TSAI_EVA_REPO.Training.train as trn\n",
        "import TSAI_EVA_REPO.Testing.test as tst\n",
        "import TSAI_EVA_REPO.Misc.Misc as misc\n"
      ],
      "execution_count": null,
      "outputs": []
    },
    {
      "cell_type": "markdown",
      "metadata": {
        "id": "9SSVMJQoEZg3",
        "colab_type": "text"
      },
      "source": [
        "### Calculating True Mean and STD for the CIFAR10 dataset (Train & Test combined)"
      ]
    },
    {
      "cell_type": "code",
      "metadata": {
        "id": "92CNIH-V35Bi",
        "colab_type": "code",
        "colab": {
          "base_uri": "https://localhost:8080/",
          "height": 66
        },
        "outputId": "b6d0b3db-1f35-40df-c742-244d970b3600"
      },
      "source": [
        "# Calling the function to calculate the mean and standard deviation for the mentioned dataset\n",
        "\n",
        "norm_mean, norm_std = util.cifar10_mean_std()\n",
        "print(norm_mean, norm_std)"
      ],
      "execution_count": null,
      "outputs": [
        {
          "output_type": "stream",
          "text": [
            "Files already downloaded and verified\n",
            "Files already downloaded and verified\n",
            "(0.49, 0.48, 0.45) (0.25, 0.24, 0.26)\n"
          ],
          "name": "stdout"
        }
      ]
    },
    {
      "cell_type": "code",
      "metadata": {
        "id": "xa0SrUZeK78t",
        "colab_type": "code",
        "colab": {
          "base_uri": "https://localhost:8080/",
          "height": 163
        },
        "outputId": "3e6fce01-2712-4ba6-b78a-30bb4ad475f0"
      },
      "source": [
        "train_transform = util.train(norm_mean, norm_std)\n",
        "test_transform = util.test(norm_mean, norm_std)\n",
        "print(train_transform, test_transform)"
      ],
      "execution_count": null,
      "outputs": [
        {
          "output_type": "stream",
          "text": [
            "Compose(\n",
            "    RandomRotation(degrees=(-5.0, 5.0), resample=False, expand=False, fill=(1, 1, 1))\n",
            "    RandomHorizontalFlip(p=0.5)\n",
            "    ToTensor()\n",
            "    Normalize(mean=(0.49, 0.48, 0.45), std=(0.25, 0.24, 0.26))\n",
            ") Compose(\n",
            "    ToTensor()\n",
            "    Normalize(mean=(0.49, 0.48, 0.45), std=(0.25, 0.24, 0.26))\n",
            ")\n"
          ],
          "name": "stdout"
        }
      ]
    },
    {
      "cell_type": "code",
      "metadata": {
        "id": "XADXUtguMaR6",
        "colab_type": "code",
        "colab": {
          "base_uri": "https://localhost:8080/",
          "height": 50
        },
        "outputId": "b8192360-9603-45bc-9e36-9c987ff34eaa"
      },
      "source": [
        "# Extract and transform the data\n",
        "\n",
        "train_set = trn.s7train(train_transform)\n",
        "test_set  = tst.test(test_transform)"
      ],
      "execution_count": null,
      "outputs": [
        {
          "output_type": "stream",
          "text": [
            "Files already downloaded and verified\n",
            "Files already downloaded and verified\n"
          ],
          "name": "stdout"
        }
      ]
    },
    {
      "cell_type": "code",
      "metadata": {
        "id": "D8Tjigo2poCl",
        "colab_type": "code",
        "colab": {
          "base_uri": "https://localhost:8080/",
          "height": 33
        },
        "outputId": "08ccc473-080c-41ca-fd6d-c82e3ca7922a"
      },
      "source": [
        "# Targets -> ('plane', 'car', 'bird', 'cat', 'deer', 'dog', 'frog', 'horse', 'ship', 'truck')\n",
        "classes = train_set.classes\n",
        "print(classes)"
      ],
      "execution_count": null,
      "outputs": [
        {
          "output_type": "stream",
          "text": [
            "['airplane', 'automobile', 'bird', 'cat', 'deer', 'dog', 'frog', 'horse', 'ship', 'truck']\n"
          ],
          "name": "stdout"
        }
      ]
    },
    {
      "cell_type": "code",
      "metadata": {
        "id": "RKVVucELVvjh",
        "colab_type": "code",
        "colab": {
          "base_uri": "https://localhost:8080/",
          "height": 33
        },
        "outputId": "7608f545-24b8-4797-b383-4c360bb8a6cf"
      },
      "source": [
        "# Dataloader Arguments & Test/Train Dataloaders - Loading into the GPU\n",
        "import torch\n",
        "SEED = 1\n",
        "# CUDA?\n",
        "cuda = torch.cuda.is_available()\n",
        "print(\"CUDA Available?\", cuda)\n",
        "# For reproducibility\n",
        "torch.manual_seed(SEED)\n",
        "if cuda:\n",
        "    torch.cuda.manual_seed(SEED)\n",
        "    \n",
        "# dataloader arguments \n",
        "dataloader_args = dict(shuffle=True, batch_size=128, num_workers=4, pin_memory=True) if cuda else dict(shuffle=True, batch_size=64, num_workers=1)\n",
        "\n",
        "# train dataloader\n",
        "train_loader = torch.utils.data.DataLoader(train_set, **dataloader_args)\n",
        "# test dataloader\n",
        "test_loader  = torch.utils.data.DataLoader(test_set, **dataloader_args)"
      ],
      "execution_count": null,
      "outputs": [
        {
          "output_type": "stream",
          "text": [
            "CUDA Available? True\n"
          ],
          "name": "stdout"
        }
      ]
    },
    {
      "cell_type": "markdown",
      "metadata": {
        "id": "_cj433rtpoCn",
        "colab_type": "text"
      },
      "source": [
        "Let us show some of the training images, for fun.\n",
        "\n"
      ]
    },
    {
      "cell_type": "code",
      "metadata": {
        "id": "hWm8Ijs5WSaV",
        "colab_type": "code",
        "colab": {
          "base_uri": "https://localhost:8080/",
          "height": 301
        },
        "outputId": "eb34854f-1c24-4334-a574-dc4520f088fe"
      },
      "source": [
        "misc.samplegrid(train_loader,classes)"
      ],
      "execution_count": null,
      "outputs": [
        {
          "output_type": "stream",
          "text": [
            "Clipping input data to the valid range for imshow with RGB data ([0..1] for floats or [0..255] for integers).\n"
          ],
          "name": "stderr"
        },
        {
          "output_type": "stream",
          "text": [
            "airplane   dog  deer  deer\n"
          ],
          "name": "stdout"
        },
        {
          "output_type": "display_data",
          "data": {
            "image/png": "[encoded data removed]",
            "text/plain": [
              "<Figure size 432x288 with 1 Axes>"
            ]
          },
          "metadata": {
            "tags": [],
            "needs_background": "light"
          }
        }
      ]
    },
    {
      "cell_type": "markdown",
      "metadata": {
        "id": "28OpHA_LpoCq",
        "colab_type": "text"
      },
      "source": [
        "### Defining a Deep Convolution NN\n",
        "\n"
      ]
    },
    {
      "cell_type": "code",
      "metadata": {
        "id": "jHYeagiYXw1m",
        "colab_type": "code",
        "colab": {
          "base_uri": "https://localhost:8080/",
          "height": 1000
        },
        "outputId": "e77d38c5-8fb5-414c-d6a6-0b7455aa8cc8"
      },
      "source": [
        "# from torchsummary import summary\n",
        "\n",
        "import torch\n",
        "import torch.nn as nn\n",
        "import torch.nn.functional as F\n",
        "\n",
        "!pip install torchsummary\n",
        "from torchsummary import summary\n",
        "\n",
        "use_cuda = torch.cuda.is_available()\n",
        "device = torch.device(\"cuda\" if use_cuda else \"cpu\")\n",
        "print(device)\n",
        "models = model.s7netv1().to(device)\n",
        "summary(models, input_size=(3, 32, 32))"
      ],
      "execution_count": null,
      "outputs": [
        {
          "output_type": "stream",
          "text": [
            "Requirement already satisfied: torchsummary in /usr/local/lib/python3.6/dist-packages (1.5.1)\n",
            "cuda\n",
            "----------------------------------------------------------------\n",
            "        Layer (type)               Output Shape         Param #\n",
            "================================================================\n",
            "            Conv2d-1           [-1, 32, 32, 32]             864\n",
            "              ReLU-2           [-1, 32, 32, 32]               0\n",
            "       BatchNorm2d-3           [-1, 32, 32, 32]              64\n",
            "           Dropout-4           [-1, 32, 32, 32]               0\n",
            "            Conv2d-5           [-1, 64, 32, 32]          18,432\n",
            "              ReLU-6           [-1, 64, 32, 32]               0\n",
            "       BatchNorm2d-7           [-1, 64, 32, 32]             128\n",
            "           Dropout-8           [-1, 64, 32, 32]               0\n",
            "            Conv2d-9           [-1, 64, 32, 32]          36,864\n",
            "             ReLU-10           [-1, 64, 32, 32]               0\n",
            "      BatchNorm2d-11           [-1, 64, 32, 32]             128\n",
            "          Dropout-12           [-1, 64, 32, 32]               0\n",
            "           Conv2d-13           [-1, 64, 32, 32]          36,864\n",
            "             ReLU-14           [-1, 64, 32, 32]               0\n",
            "      BatchNorm2d-15           [-1, 64, 32, 32]             128\n",
            "          Dropout-16           [-1, 64, 32, 32]               0\n",
            "           Conv2d-17           [-1, 32, 34, 34]           2,048\n",
            "        MaxPool2d-18           [-1, 32, 18, 18]               0\n",
            "           Conv2d-19           [-1, 64, 18, 18]          18,432\n",
            "             ReLU-20           [-1, 64, 18, 18]               0\n",
            "      BatchNorm2d-21           [-1, 64, 18, 18]             128\n",
            "          Dropout-22           [-1, 64, 18, 18]               0\n",
            "           Conv2d-23          [-1, 128, 18, 18]          73,728\n",
            "             ReLU-24          [-1, 128, 18, 18]               0\n",
            "      BatchNorm2d-25          [-1, 128, 18, 18]             256\n",
            "          Dropout-26          [-1, 128, 18, 18]               0\n",
            "           Conv2d-27           [-1, 64, 20, 20]           8,192\n",
            "        MaxPool2d-28           [-1, 64, 11, 11]               0\n",
            "           Conv2d-29           [-1, 64, 11, 11]             576\n",
            "             ReLU-30           [-1, 64, 11, 11]               0\n",
            "      BatchNorm2d-31           [-1, 64, 11, 11]             128\n",
            "          Dropout-32           [-1, 64, 11, 11]               0\n",
            "           Conv2d-33          [-1, 128, 13, 13]           8,192\n",
            "             ReLU-34          [-1, 128, 13, 13]               0\n",
            "      BatchNorm2d-35          [-1, 128, 13, 13]             256\n",
            "          Dropout-36          [-1, 128, 13, 13]               0\n",
            "           Conv2d-37          [-1, 128, 11, 11]         147,456\n",
            "             ReLU-38          [-1, 128, 11, 11]               0\n",
            "      BatchNorm2d-39          [-1, 128, 11, 11]             256\n",
            "          Dropout-40          [-1, 128, 11, 11]               0\n",
            "           Conv2d-41           [-1, 64, 13, 13]           8,192\n",
            "        MaxPool2d-42             [-1, 64, 7, 7]               0\n",
            "           Conv2d-43            [-1, 128, 7, 7]          73,728\n",
            "             ReLU-44            [-1, 128, 7, 7]               0\n",
            "      BatchNorm2d-45            [-1, 128, 7, 7]             256\n",
            "          Dropout-46            [-1, 128, 7, 7]               0\n",
            "           Conv2d-47            [-1, 256, 7, 7]         294,912\n",
            "             ReLU-48            [-1, 256, 7, 7]               0\n",
            "      BatchNorm2d-49            [-1, 256, 7, 7]             512\n",
            "          Dropout-50            [-1, 256, 7, 7]               0\n",
            "        AvgPool2d-51            [-1, 256, 1, 1]               0\n",
            "           Conv2d-52             [-1, 10, 1, 1]           2,560\n",
            "================================================================\n",
            "Total params: 733,280\n",
            "Trainable params: 733,280\n",
            "Non-trainable params: 0\n",
            "----------------------------------------------------------------\n",
            "Input size (MB): 0.01\n",
            "Forward/backward pass size (MB): 11.57\n",
            "Params size (MB): 2.80\n",
            "Estimated Total Size (MB): 14.37\n",
            "----------------------------------------------------------------\n"
          ],
          "name": "stdout"
        }
      ]
    },
    {
      "cell_type": "code",
      "metadata": {
        "id": "LIa_5kbfbb5k",
        "colab_type": "code",
        "colab": {}
      },
      "source": [
        "from tqdm import tqdm\n",
        "\n",
        "train_losses = []\n",
        "test_losses = []\n",
        "train_acc = []\n",
        "test_acc = []\n",
        "\n",
        "def train(model, device, train_loader, optimizer, epoch):\n",
        "  model.train()\n",
        "  pbar = tqdm(train_loader)\n",
        "  correct = 0\n",
        "  processed = 0\n",
        "  for batch_idx, (data, target) in enumerate(pbar):\n",
        "    # get samples\n",
        "    data, target = data.to(device), target.to(device)\n",
        "\n",
        "    # Init\n",
        "    optimizer.zero_grad()\n",
        "    # In PyTorch, we need to set the gradients to zero before starting to do backpropragation because PyTorch accumulates the gradients on subsequent backward passes. \n",
        "    # Because of this, when we start your training loop, ideally we should zero out the gradients so that we do the parameter update correctly.\n",
        "\n",
        "    # Predict\n",
        "    y_pred = model(data)\n",
        "\n",
        "    # Calculate loss\n",
        "    loss = criterion(y_pred, target)\n",
        "    train_losses.append(loss)\n",
        "\n",
        "    # Backpropagation\n",
        "    loss.backward()\n",
        "    optimizer.step()\n",
        "\n",
        "    # Update pbar-tqdm\n",
        "    \n",
        "    pred = y_pred.argmax(dim=1, keepdim=True)  # get the index of the max log-probability\n",
        "    correct += pred.eq(target.view_as(pred)).sum().item()\n",
        "    processed += len(data)\n",
        "\n",
        "    pbar.set_description(desc= f'Loss={loss.item()} Batch_id={batch_idx} Train Accuracy={100*correct/processed:0.2f}')\n",
        "    train_acc.append(100*correct/processed)\n",
        "\n",
        "def test(model, device, test_loader):\n",
        "    model.eval()\n",
        "    test_loss = 0\n",
        "    correct = 0\n",
        "    with torch.no_grad():\n",
        "        for data, target in test_loader:\n",
        "            data, target = data.to(device), target.to(device)\n",
        "            output = model(data)\n",
        "            test_loss += F.nll_loss(output, target, reduction='sum').item()  # sum up batch loss\n",
        "            pred = output.argmax(dim=1, keepdim=True)  # get the index of the max log-probability\n",
        "            correct += pred.eq(target.view_as(pred)).sum().item()\n",
        "\n",
        "    test_loss /= len(test_loader.dataset)\n",
        "    test_losses.append(test_loss)\n",
        "\n",
        "    print('\\nTest set: Average loss: {:.4f}, Test Accuracy: {}/{} ({:.2f}%)\\n'.format(\n",
        "        test_loss, correct, len(test_loader.dataset),\n",
        "        100. * correct / len(test_loader.dataset)))\n",
        "    \n",
        "    test_acc.append(100. * correct / len(test_loader.dataset))"
      ],
      "execution_count": null,
      "outputs": []
    },
    {
      "cell_type": "code",
      "metadata": {
        "id": "tnhEqTs0brDV",
        "colab_type": "code",
        "colab": {
          "base_uri": "https://localhost:8080/",
          "height": 830
        },
        "outputId": "35629a97-45cc-4752-ea89-bbe84390f3d2"
      },
      "source": [
        "import torch\n",
        "import torch.nn as nn\n",
        "import torch.optim as optim\n",
        "import torch.nn.functional as F\n",
        "\n",
        "from torch.optim.lr_scheduler import StepLR\n",
        "\n",
        "criterion = nn.CrossEntropyLoss()\n",
        "optimizer = optim.SGD(models.parameters(), lr=0.1, momentum=0.9)\n",
        "scheduler = StepLR(optimizer, step_size=6, gamma=0.1)\n",
        "\n",
        "EPOCHS = 10\n",
        "for epoch in range(EPOCHS):\n",
        "    print(\"EPOCH:\", epoch)\n",
        "    train(models, device, train_loader, optimizer, epoch)\n",
        "    scheduler.step()\n",
        "    test(models, device, test_loader)"
      ],
      "execution_count": null,
      "outputs": [
        {
          "output_type": "stream",
          "text": [
            "\r  0%|          | 0/391 [00:00<?, ?it/s]"
          ],
          "name": "stderr"
        },
        {
          "output_type": "stream",
          "text": [
            "EPOCH: 0\n"
          ],
          "name": "stdout"
        },
        {
          "output_type": "stream",
          "text": [
            "Loss=1.1052119731903076 Batch_id=390 Train Accuracy=44.91: 100%|██████████| 391/391 [00:28<00:00, 13.70it/s]\n",
            "  0%|          | 0/391 [00:00<?, ?it/s]"
          ],
          "name": "stderr"
        },
        {
          "output_type": "stream",
          "text": [
            "\n",
            "Test set: Average loss: 1.2649, Test Accuracy: 5415/10000 (54.15%)\n",
            "\n",
            "EPOCH: 1\n"
          ],
          "name": "stdout"
        },
        {
          "output_type": "stream",
          "text": [
            "Loss=0.7609341144561768 Batch_id=390 Train Accuracy=61.40: 100%|██████████| 391/391 [00:28<00:00, 13.65it/s]\n",
            "  0%|          | 0/391 [00:00<?, ?it/s]"
          ],
          "name": "stderr"
        },
        {
          "output_type": "stream",
          "text": [
            "\n",
            "Test set: Average loss: 1.1193, Test Accuracy: 6204/10000 (62.04%)\n",
            "\n",
            "EPOCH: 2\n"
          ],
          "name": "stdout"
        },
        {
          "output_type": "stream",
          "text": [
            "Loss=0.7325268983840942 Batch_id=390 Train Accuracy=68.90: 100%|██████████| 391/391 [00:28<00:00, 13.55it/s]\n",
            "  0%|          | 0/391 [00:00<?, ?it/s]"
          ],
          "name": "stderr"
        },
        {
          "output_type": "stream",
          "text": [
            "\n",
            "Test set: Average loss: 0.8406, Test Accuracy: 7037/10000 (70.37%)\n",
            "\n",
            "EPOCH: 3\n"
          ],
          "name": "stdout"
        },
        {
          "output_type": "stream",
          "text": [
            "Loss=0.7054497599601746 Batch_id=390 Train Accuracy=72.74: 100%|██████████| 391/391 [00:28<00:00, 13.50it/s]\n",
            "  0%|          | 0/391 [00:00<?, ?it/s]"
          ],
          "name": "stderr"
        },
        {
          "output_type": "stream",
          "text": [
            "\n",
            "Test set: Average loss: 0.7305, Test Accuracy: 7452/10000 (74.52%)\n",
            "\n",
            "EPOCH: 4\n"
          ],
          "name": "stdout"
        },
        {
          "output_type": "stream",
          "text": [
            "Loss=0.5994943380355835 Batch_id=390 Train Accuracy=75.50: 100%|██████████| 391/391 [00:29<00:00, 13.44it/s]\n",
            "  0%|          | 0/391 [00:00<?, ?it/s]"
          ],
          "name": "stderr"
        },
        {
          "output_type": "stream",
          "text": [
            "\n",
            "Test set: Average loss: 0.6547, Test Accuracy: 7747/10000 (77.47%)\n",
            "\n",
            "EPOCH: 5\n"
          ],
          "name": "stdout"
        },
        {
          "output_type": "stream",
          "text": [
            "Loss=0.6192374229431152 Batch_id=390 Train Accuracy=77.43: 100%|██████████| 391/391 [00:29<00:00, 13.33it/s]\n",
            "  0%|          | 0/391 [00:00<?, ?it/s]"
          ],
          "name": "stderr"
        },
        {
          "output_type": "stream",
          "text": [
            "\n",
            "Test set: Average loss: 0.6312, Test Accuracy: 7854/10000 (78.54%)\n",
            "\n",
            "EPOCH: 6\n"
          ],
          "name": "stdout"
        },
        {
          "output_type": "stream",
          "text": [
            "Loss=0.4910368025302887 Batch_id=390 Train Accuracy=81.51: 100%|██████████| 391/391 [00:29<00:00, 13.31it/s]\n",
            "  0%|          | 0/391 [00:00<?, ?it/s]"
          ],
          "name": "stderr"
        },
        {
          "output_type": "stream",
          "text": [
            "\n",
            "Test set: Average loss: 0.5291, Test Accuracy: 8209/10000 (82.09%)\n",
            "\n",
            "EPOCH: 7\n"
          ],
          "name": "stdout"
        },
        {
          "output_type": "stream",
          "text": [
            "Loss=0.5962218046188354 Batch_id=390 Train Accuracy=82.54: 100%|██████████| 391/391 [00:29<00:00, 13.23it/s]\n",
            "  0%|          | 0/391 [00:00<?, ?it/s]"
          ],
          "name": "stderr"
        },
        {
          "output_type": "stream",
          "text": [
            "\n",
            "Test set: Average loss: 0.5140, Test Accuracy: 8243/10000 (82.43%)\n",
            "\n",
            "EPOCH: 8\n"
          ],
          "name": "stdout"
        },
        {
          "output_type": "stream",
          "text": [
            "Loss=0.4498482644557953 Batch_id=390 Train Accuracy=83.11: 100%|██████████| 391/391 [00:29<00:00, 13.13it/s]\n",
            "  0%|          | 0/391 [00:00<?, ?it/s]"
          ],
          "name": "stderr"
        },
        {
          "output_type": "stream",
          "text": [
            "\n",
            "Test set: Average loss: 0.5122, Test Accuracy: 8249/10000 (82.49%)\n",
            "\n",
            "EPOCH: 9\n"
          ],
          "name": "stdout"
        },
        {
          "output_type": "stream",
          "text": [
            "Loss=0.4787677824497223 Batch_id=390 Train Accuracy=83.42: 100%|██████████| 391/391 [00:29<00:00, 13.13it/s]\n"
          ],
          "name": "stderr"
        },
        {
          "output_type": "stream",
          "text": [
            "\n",
            "Test set: Average loss: 0.4984, Test Accuracy: 8322/10000 (83.22%)\n",
            "\n"
          ],
          "name": "stdout"
        }
      ]
    },
    {
      "cell_type": "code",
      "metadata": {
        "id": "jwRbaZADd8Uu",
        "colab_type": "code",
        "colab": {
          "base_uri": "https://localhost:8080/",
          "height": 301
        },
        "outputId": "f616e70c-19ce-4582-9f74-a275eba27525"
      },
      "source": [
        "misc.samplegrid(test_loader,classes)"
      ],
      "execution_count": null,
      "outputs": [
        {
          "output_type": "stream",
          "text": [
            "Clipping input data to the valid range for imshow with RGB data ([0..1] for floats or [0..255] for integers).\n"
          ],
          "name": "stderr"
        },
        {
          "output_type": "stream",
          "text": [
            "automobile  ship  bird  deer\n"
          ],
          "name": "stdout"
        },
        {
          "output_type": "display_data",
          "data": {
            "image/png": "[encoded data removed]",
            "text/plain": [
              "<Figure size 432x288 with 1 Axes>"
            ]
          },
          "metadata": {
            "tags": [],
            "needs_background": "light"
          }
        }
      ]
    },
    {
      "cell_type": "code",
      "metadata": {
        "id": "HVLjlssWpoC9",
        "colab_type": "code",
        "colab": {
          "base_uri": "https://localhost:8080/",
          "height": 33
        },
        "outputId": "537af4fc-b279-40ae-d640-6148992acdb5"
      },
      "source": [
        "outputs = models(images.to(device))\n",
        "outputs.shape"
      ],
      "execution_count": null,
      "outputs": [
        {
          "output_type": "execute_result",
          "data": {
            "text/plain": [
              "torch.Size([128, 10])"
            ]
          },
          "metadata": {
            "tags": []
          },
          "execution_count": 35
        }
      ]
    },
    {
      "cell_type": "code",
      "metadata": {
        "id": "ABRIDW3lpoDA",
        "colab_type": "code",
        "colab": {
          "base_uri": "https://localhost:8080/",
          "height": 33
        },
        "outputId": "fd1a4d9c-6185-4b77-8a07-ec990af3304a"
      },
      "source": [
        "_, predicted = torch.max(outputs, 1)\n",
        "\n",
        "print('Predicted: ', ' '.join('%5s' % classes[predicted[j]]\n",
        "                              for j in range(4)))"
      ],
      "execution_count": null,
      "outputs": [
        {
          "output_type": "stream",
          "text": [
            "Predicted:   ship   cat  deer  deer\n"
          ],
          "name": "stdout"
        }
      ]
    },
    {
      "cell_type": "markdown",
      "metadata": {
        "id": "2TV0TXL1poDC",
        "colab_type": "text"
      },
      "source": [
        "The results seem pretty good.\n",
        "\n",
        "Let us look at how the network performs on the whole dataset.\n",
        "\n"
      ]
    },
    {
      "cell_type": "code",
      "metadata": {
        "id": "SZ4-5CESpoDD",
        "colab_type": "code",
        "colab": {
          "base_uri": "https://localhost:8080/",
          "height": 33
        },
        "outputId": "060b3900-598d-42c9-9923-c19f35733a51"
      },
      "source": [
        "correct = 0\n",
        "total = 0\n",
        "with torch.no_grad():\n",
        "    for data, target in test_loader:\n",
        "        data, target = data.to(device), target.to(device)\n",
        "        outputs = models(data)\n",
        "        _, predicted = torch.max(outputs.data, 1)\n",
        "        total += target.size(0)\n",
        "        correct += (predicted == target).sum().item()\n",
        "\n",
        "print('Accuracy of the network on the 10000 test images: %d %%' % (\n",
        "    100 * correct / total))"
      ],
      "execution_count": null,
      "outputs": [
        {
          "output_type": "stream",
          "text": [
            "Accuracy of the network on the 10000 test images: 83 %\n"
          ],
          "name": "stdout"
        }
      ]
    },
    {
      "cell_type": "code",
      "metadata": {
        "id": "pDNFuDEDpoDG",
        "colab_type": "code",
        "colab": {
          "base_uri": "https://localhost:8080/",
          "height": 180
        },
        "outputId": "6fc14543-4317-4dd1-9983-fc3be9deaf4f"
      },
      "source": [
        "class_correct = list(0. for i in range(10))\n",
        "class_total = list(0. for i in range(10))\n",
        "with torch.no_grad():\n",
        "    for data, target in test_loader:\n",
        "        data, target = data.to(device), target.to(device)\n",
        "        outputs = models(data)\n",
        "        _, predicted = torch.max(outputs, 1)\n",
        "        c = (predicted == target).squeeze()\n",
        "        for i in range(4):\n",
        "            label = target[i]\n",
        "            class_correct[label] += c[i].item()\n",
        "            class_total[label] += 1\n",
        "\n",
        "\n",
        "for i in range(10):\n",
        "    print('Accuracy of %5s : %2d %%' % (\n",
        "        classes[i], 100 * class_correct[i] / class_total[i]))"
      ],
      "execution_count": null,
      "outputs": [
        {
          "output_type": "stream",
          "text": [
            "Accuracy of airplane : 88 %\n",
            "Accuracy of automobile : 96 %\n",
            "Accuracy of  bird : 60 %\n",
            "Accuracy of   cat : 63 %\n",
            "Accuracy of  deer : 80 %\n",
            "Accuracy of   dog : 67 %\n",
            "Accuracy of  frog : 83 %\n",
            "Accuracy of horse : 85 %\n",
            "Accuracy of  ship : 100 %\n",
            "Accuracy of truck : 82 %\n"
          ],
          "name": "stdout"
        }
      ]
    },
    {
      "cell_type": "code",
      "metadata": {
        "id": "a0Lcronw1Yyk",
        "colab_type": "code",
        "colab": {}
      },
      "source": [
        ""
      ],
      "execution_count": null,
      "outputs": []
    }
  ]
}